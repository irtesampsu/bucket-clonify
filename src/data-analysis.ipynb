{
 "cells": [
  {
   "cell_type": "code",
   "execution_count": 1,
   "id": "48775049",
   "metadata": {},
   "outputs": [
    {
     "name": "stdout",
     "output_type": "stream",
     "text": [
      "Index(['sequence', 'locus', 'stop_codon', 'vj_in_frame', 'v_frameshift',\n",
      "       'productive', 'rev_comp', 'complete_vdj', 'v_call', 'd_call', 'j_call',\n",
      "       'sequence_alignment', 'germline_alignment', 'sequence_alignment_aa',\n",
      "       'germline_alignment_aa', 'v_alignment_start', 'v_alignment_end',\n",
      "       'd_alignment_start', 'd_alignment_end', 'j_alignment_start',\n",
      "       'j_alignment_end', 'v_sequence_alignment', 'v_sequence_alignment_aa',\n",
      "       'v_germline_alignment', 'v_germline_alignment_aa',\n",
      "       'd_sequence_alignment', 'd_sequence_alignment_aa',\n",
      "       'd_germline_alignment', 'd_germline_alignment_aa',\n",
      "       'j_sequence_alignment', 'j_sequence_alignment_aa',\n",
      "       'j_germline_alignment', 'j_germline_alignment_aa', 'fwr1', 'fwr1_aa',\n",
      "       'cdr1', 'cdr1_aa', 'fwr2', 'fwr2_aa', 'cdr2', 'cdr2_aa', 'fwr3',\n",
      "       'fwr3_aa', 'fwr4', 'fwr4_aa', 'cdr3', 'cdr3_aa', 'junction',\n",
      "       'junction_length', 'junction_aa', 'junction_aa_length', 'v_score',\n",
      "       'd_score', 'j_score', 'v_cigar', 'd_cigar', 'j_cigar', 'v_support',\n",
      "       'd_support', 'j_support', 'v_identity', 'd_identity', 'j_identity',\n",
      "       'v_sequence_start', 'v_sequence_end', 'v_germline_start',\n",
      "       'v_germline_end', 'd_sequence_start', 'd_sequence_end',\n",
      "       'd_germline_start', 'd_germline_end', 'j_sequence_start',\n",
      "       'j_sequence_end', 'j_germline_start', 'j_germline_end', 'fwr1_start',\n",
      "       'fwr1_end', 'cdr1_start', 'cdr1_end', 'fwr2_start', 'fwr2_end',\n",
      "       'cdr2_start', 'cdr2_end', 'fwr3_start', 'fwr3_end', 'fwr4_start',\n",
      "       'fwr4_end', 'cdr3_start', 'cdr3_end', 'np1', 'np1_length', 'np2',\n",
      "       'np2_length', 'c_region', 'Redundancy', 'ANARCI_numbering',\n",
      "       'ANARCI_status'],\n",
      "      dtype='object')\n",
      "                                            sequence locus stop_codon  \\\n",
      "0  CACGTGCTGGGGGGTCCCTGAGACTCTCCTGTGCAGTGTCTGGACT...     H          F   \n",
      "1  GTCTTCGGAGACCCTGTTCCTCACCTGCATCGTTTCTGGGGGCTCT...     H          F   \n",
      "2  ATCCCTGGGGGGTCCCTGAGACTCTCCTGTTCCGCCTCTGCATCTG...     H          F   \n",
      "3  TCAGCTGGGGGGTCCCTGAGACTCTCCTGTGTAGCCTCCGGATTCA...     H          F   \n",
      "4  CATACTGGGGGGTCCCTGAGACTCTCCTGCGATGCCTCTGGATTCA...     H          F   \n",
      "\n",
      "  vj_in_frame v_frameshift productive rev_comp complete_vdj       v_call  \\\n",
      "0           T            F          T        F            F  IGHV3-48*03   \n",
      "1           T            F          T        F            F  IGHV4-39*01   \n",
      "2           T            F          T        F            F  IGHV3-21*01   \n",
      "3           T            F          T        F            F   IGHV3-7*01   \n",
      "4           T            F          T        F            F  IGHV3-11*01   \n",
      "\n",
      "        d_call  ... cdr3_start cdr3_end                             np1  \\\n",
      "0  IGHD5-18*01  ...      255.0    308.0                   CTGGGACTGTCGC   \n",
      "1  IGHD1-26*01  ...      254.0    298.0                 TGGGGCACCAGGGGT   \n",
      "2  IGHD3-10*01  ...      253.0    315.0  TCGACGATACACGGTTCGACATCCGACAGT   \n",
      "3          NaN  ...      253.0    279.0                            GAGC   \n",
      "4  IGHD3-16*01  ...      253.0    291.0                         CCACGCC   \n",
      "\n",
      "  np1_length       np2  np2_length                                c_region  \\\n",
      "0       13.0    GATATA         6.0        CCTCCACCAAGGGCCCATCCCCAGAATGAGCT   \n",
      "1       15.0  CCTCCTAC         8.0      CTTCCACCAAGGGCCCATCCGCGTTGCCCGACTG   \n",
      "2       30.0        CC         2.0  CCTCCACCAAGGGCCCATCCTACCTTCATGCCGTATGG   \n",
      "3        4.0       NaN         NaN        CCTCCACCAAGGGCCCATCGCTTAACTCCATA   \n",
      "4        7.0    CTACGC         6.0    CTTCCACCAAGGGCCCATCGCTGTTCCCATGTACAT   \n",
      "\n",
      "   Redundancy                                   ANARCI_numbering  \\\n",
      "0           1  {'fwh1': {'16 ': 'G', '17 ': 'G', '18 ': 'S', ...   \n",
      "1           1  {'fwh1': {'16 ': 'S', '17 ': 'E', '18 ': 'T', ...   \n",
      "2           1  {'fwh1': {'15 ': 'P', '16 ': 'G', '17 ': 'G', ...   \n",
      "3         267  {'fwh1': {'16 ': 'G', '17 ': 'G', '18 ': 'S', ...   \n",
      "4           1  {'fwh1': {'16 ': 'G', '17 ': 'G', '18 ': 'S', ...   \n",
      "\n",
      "                                       ANARCI_status  \n",
      "0  |Deletions: 1, 2, 3, 4, 5, 6, 7, 8, 9, 10, 11,...  \n",
      "1  |Deletions: 1, 2, 3, 4, 5, 6, 7, 8, 9, 10, 11,...  \n",
      "2  |Deletions: 1, 2, 3, 4, 5, 6, 7, 8, 9, 10, 11,...  \n",
      "3  |Deletions: 1, 2, 3, 4, 5, 6, 7, 8, 9, 10, 11,...  \n",
      "4  |Deletions: 1, 2, 3, 4, 5, 6, 7, 8, 9, 10, 11,...  \n",
      "\n",
      "[5 rows x 97 columns]\n"
     ]
    }
   ],
   "source": [
    "import pandas as pd\n",
    "data = pd.read_csv('../SRR8283831_head.csv')\n",
    "print (data.columns)\n",
    "print (data.head())"
   ]
  }
 ],
 "metadata": {
  "kernelspec": {
   "display_name": "clonify",
   "language": "python",
   "name": "python3"
  },
  "language_info": {
   "codemirror_mode": {
    "name": "ipython",
    "version": 3
   },
   "file_extension": ".py",
   "mimetype": "text/x-python",
   "name": "python",
   "nbconvert_exporter": "python",
   "pygments_lexer": "ipython3",
   "version": "3.13.2"
  }
 },
 "nbformat": 4,
 "nbformat_minor": 5
}
